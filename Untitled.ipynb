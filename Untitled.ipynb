{
 "cells": [
  {
   "cell_type": "code",
   "execution_count": 127,
   "metadata": {},
   "outputs": [
    {
     "name": "stdout",
     "output_type": "stream",
     "text": [
      "[ 1.15926932  0.94591477 -0.8600739   0.95190672 -0.69116422  1.80469932\n",
      "  1.6412687   1.40574795  0.85478363  0.21264619]\n"
     ]
    }
   ],
   "source": [
    "valueAction=np.random.normal(0,1,10)\n",
    "print(valueAction)"
   ]
  },
  {
   "cell_type": "code",
   "execution_count": 149,
   "metadata": {},
   "outputs": [
    {
     "name": "stdout",
     "output_type": "stream",
     "text": [
      "[[ 1.01935762 -1.73734833  0.69210628  1.42560947 -0.69590793  0.19054375\n",
      "  -0.36139944  1.14081056 -0.09084817  1.29829912]]\n"
     ]
    }
   ],
   "source": [
    "print(np.random.randn(1,10))"
   ]
  },
  {
   "cell_type": "code",
   "execution_count": 69,
   "metadata": {},
   "outputs": [
    {
     "data": {
      "image/png": "[encoded data removed]",
      "text/plain": [
       "<matplotlib.figure.Figure at 0x7fe5e6663978>"
      ]
     },
     "metadata": {},
     "output_type": "display_data"
    }
   ],
   "source": [
    "import  numpy as np\n",
    "import matplotlib.pyplot as mp\n",
    "\n",
    "valueAction=np.random.normal(0,1,10)\n",
    "def greedySelectAction(vector,n,epsilon=0):\n",
    "    #print(vector)\n",
    "    value=np.zeros(n)\n",
    "    for i in range(n):\n",
    "        x=np.random.random_sample()\n",
    "        if(x>epsilon):\n",
    "            selectedAction=vector.max()\n",
    "            #print(selectedAction)\n",
    "            index=np.where(vector==selectedAction)[0]\n",
    "        else:\n",
    "            index= np.random.randint(0,np.size(vector))\n",
    "            selectedAction=vector[index]\n",
    "        #print(index)\n",
    "        reward=np.random.normal(selectedAction,1)\n",
    "        vector[index]=vector[index]+(1/(i+2))*(reward - vector[index]) #equation for new action value\n",
    "        #print(vector[index])\n",
    "        value[i]=np.mean(vector) # full reward\n",
    "    return value\n",
    "meanValue=np.zeros(1000)\n",
    "meanValue2=np.zeros(1000)\n",
    "for j in range(200):\n",
    "    result=greedySelectAction(valueAction,1000)\n",
    "    if(j==0):\n",
    "        meanValue=result\n",
    "    else:\n",
    "        meanValue=meanValue+(1/(j+2))*(result - meanValue)\n",
    "    \n",
    "    result2=greedySelectAction(valueAction,1000,0.1)\n",
    "    if(j==0):\n",
    "        meanValue2=result2\n",
    "    else:\n",
    "        meanValue2=meanValue2+(1/(j+2))*(result2 - meanValue2)\n",
    "    \n",
    "mp.plot(np.arange(0,1000,1),meanValue,meanValue2)\n",
    "mp.show()"
   ]
  },
  {
   "cell_type": "markdown",
   "metadata": {},
   "source": [
    "#### epsilon greedy"
   ]
  },
  {
   "cell_type": "code",
   "execution_count": null,
   "metadata": {},
   "outputs": [],
   "source": [
    "import  numpy as np\n",
    "import matplotlib.pyplot as mp\n",
    "\n",
    "valueAction=np.random.normal(0,1,10)\n",
    "def greedySelectAction(vector,n):\n",
    "    #print(vector)\n",
    "    value=np.zeros(n)\n",
    "    for i in range(n):\n",
    "        selectedAction=vector.max()\n",
    "        #print(selectedAction)\n",
    "        index=np.where(vector==selectedAction)[0]\n",
    "        #print(index)\n",
    "        reward=np.random.normal(selectedAction,1)\n",
    "        vector[index]=vector[index]+(1/(i+2))*(reward - vector[index]) #equation for new action value\n",
    "        #print(vector[index])\n",
    "        value[i]=np.mean(vector) # full reward\n",
    "    return value\n",
    "\n",
    "    \n",
    "    \n",
    "result=greedySelectAction(valueAction,1000)\n",
    "mp.plot(np.arange(0,1000,1),result)\n",
    "mp.show()"
   ]
  }
 ],
 "metadata": {
  "kernelspec": {
   "display_name": "Python 3",
   "language": "python",
   "name": "python3"
  },
  "language_info": {
   "codemirror_mode": {
    "name": "ipython",
    "version": 3
   },
   "file_extension": ".py",
   "mimetype": "text/x-python",
   "name": "python",
   "nbconvert_exporter": "python",
   "pygments_lexer": "ipython3",
   "version": "3.6.4"
  }
 },
 "nbformat": 4,
 "nbformat_minor": 2
}
