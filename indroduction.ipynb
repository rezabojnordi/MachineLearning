{
 "cells": [
  {
   "cell_type": "markdown",
   "metadata": {},
   "source": [
    "![title](image/python3.png)"
   ]
  },
  {
   "cell_type": "markdown",
   "metadata": {},
   "source": [
    "# Introduction to python3\n",
    "\n",
    "## Python Features\n",
    "### 1-Easy-to-learn\n",
    "### 2-Easy-to-read\n",
    "### 3-Easy-to-maintain\n",
    "### 4-A broad standard library − Python's bulk of the library is very portable \n",
    "### 5-and cross-platform compatible on UNIX, Windows, and Macintosh.\n",
    "### 6-Portable − Python can run on a wide variety of hardware platforms and has the same interface on all platforms.\n"
   ]
  },
  {
   "cell_type": "markdown",
   "metadata": {},
   "source": [
    "# python vs nodejs\n",
    "Math.pow(2,1000)\n",
    "\n",
    "2**1000"
   ]
  },
  {
   "cell_type": "markdown",
   "metadata": {},
   "source": [
    "# Variable Types"
   ]
  },
  {
   "cell_type": "code",
   "execution_count": 4,
   "metadata": {},
   "outputs": [
    {
     "name": "stdout",
     "output_type": "stream",
     "text": [
      "counter-> 100\n",
      "miles--> 1000.0\n",
      "name--> John\n",
      "<class 'str'>\n"
     ]
    }
   ],
   "source": [
    "counter = 100          # An integer assignment\n",
    "miles   = 1000.0       # A floating point\n",
    "name    = \"John\"       # A string\n",
    "print ('counter->',counter)\n",
    "print ('miles-->',miles)\n",
    "print ('name-->',name)\n",
    "print(type(name))"
   ]
  },
  {
   "cell_type": "markdown",
   "metadata": {},
   "source": [
    "# Multiple Assignment"
   ]
  },
  {
   "cell_type": "code",
   "execution_count": 6,
   "metadata": {},
   "outputs": [
    {
     "name": "stdout",
     "output_type": "stream",
     "text": [
      "1\n",
      "19.5\n"
     ]
    }
   ],
   "source": [
    "a=b=c=1\n",
    "print(a)\n",
    "\n",
    "c=d=e='reza',19.5,18\n",
    "print(c[1])"
   ]
  },
  {
   "cell_type": "markdown",
   "metadata": {},
   "source": [
    "# Standard Data Types\n",
    "## Python has five standard data types −\n",
    "\n",
    "### 1-Numbers\n",
    "\n",
    "### 2-String\n",
    "\n",
    "### 3-List\n",
    "\n",
    "### 4-Tuple\n",
    "\n",
    "### 5-Dictionary"
   ]
  },
  {
   "cell_type": "markdown",
   "metadata": {},
   "source": [
    "# Python Numbers"
   ]
  },
  {
   "cell_type": "code",
   "execution_count": 23,
   "metadata": {},
   "outputs": [
    {
     "name": "stdout",
     "output_type": "stream",
     "text": [
      "--------numbers----------> 2564899756565\n",
      "<class 'int'>\n"
     ]
    }
   ],
   "source": [
    "a = 25\n",
    "c=2564899756565\n",
    "\n",
    "print('--------numbers---------->',c)\n",
    "print(type(c))"
   ]
  },
  {
   "cell_type": "markdown",
   "metadata": {},
   "source": [
    "# Python Strings"
   ]
  },
  {
   "cell_type": "code",
   "execution_count": 24,
   "metadata": {},
   "outputs": [
    {
     "name": "stdout",
     "output_type": "stream",
     "text": [
      "-----------strings-------------> Hello World!\n",
      "<class 'str'>\n"
     ]
    }
   ],
   "source": [
    "str = \"Hello World!\" #or '2564899756565'\n",
    "print('-----------strings------------->',str)\n",
    "print(type(str))"
   ]
  },
  {
   "cell_type": "code",
   "execution_count": 8,
   "metadata": {},
   "outputs": [
    {
     "name": "stdout",
     "output_type": "stream",
     "text": [
      "l\n",
      "llo W\n",
      "llo World!\n"
     ]
    }
   ],
   "source": [
    "#Python Strings\n",
    "str = 'Hello World!'\n",
    "print(str[2])       # Prints first character of the string\n",
    "print (str[2:7])     # Prints characters starting from 3rd to 5th\n",
    "print (str[2:])      # Prints string starting from 3rd character"
   ]
  },
  {
   "cell_type": "markdown",
   "metadata": {},
   "source": [
    "# Python Lists"
   ]
  },
  {
   "cell_type": "code",
   "execution_count": 14,
   "metadata": {},
   "outputs": [
    {
     "name": "stdout",
     "output_type": "stream",
     "text": [
      "-----------------------------\n",
      "['abcd', 786, 2.23, 'john', 70.2]\n",
      "-----------------------------\n",
      "------------>> [2, 786, 2.23, 'john', 70.2]\n",
      "2.23\n",
      "-----------------------------\n",
      "[786, 2.23]\n",
      "-----------------------------\n",
      "[123, 'john', 123, 'john', 123, 'john']\n"
     ]
    }
   ],
   "source": [
    "list = [ 'abcd', 786 , 2.23, 'john', 70.2 ]\n",
    "tinylist = [123, 'john']\n",
    "print('-----------------------------')\n",
    "print (list)\n",
    "print('-----------------------------')\n",
    "list[0]=2\n",
    "print('------------>>',list)\n",
    "print(list[2])\n",
    "print('-----------------------------')\n",
    "print(list[1:3])\n",
    "print('-----------------------------')\n",
    "print (tinylist * 3)  # Prints list two times"
   ]
  },
  {
   "cell_type": "markdown",
   "metadata": {},
   "source": [
    "![title](image/array.png)"
   ]
  },
  {
   "cell_type": "markdown",
   "metadata": {},
   "source": [
    "# Python Tuples"
   ]
  },
  {
   "cell_type": "code",
   "execution_count": 13,
   "metadata": {},
   "outputs": [
    {
     "name": "stdout",
     "output_type": "stream",
     "text": [
      "('abcd', 786, 2.23, 'john', 70.2)\n",
      "('abcd', 786, 2.23, 'john', 70.2)\n",
      "abcd\n",
      "(786, 2.23, 'john')\n"
     ]
    }
   ],
   "source": [
    "tuple = ( 'abcd', 786 , 2.23, 'john', 70.2  )\n",
    "print(tuple)\n",
    "print(tuple)\n",
    "print(tuple[0])\n",
    "print (tuple[1:4])"
   ]
  },
  {
   "cell_type": "markdown",
   "metadata": {},
   "source": [
    "# Python Dictionary"
   ]
  },
  {
   "cell_type": "code",
   "execution_count": 15,
   "metadata": {},
   "outputs": [
    {
     "name": "stdout",
     "output_type": "stream",
     "text": [
      "dict---------> {'one': 'This is one', 2: 'This is two'}\n"
     ]
    }
   ],
   "source": [
    "dict = {}\n",
    "dict['one'] = \"This is one\"\n",
    "dict[2]= \"This is two\"\n",
    "print('dict--------->',dict)"
   ]
  },
  {
   "cell_type": "markdown",
   "metadata": {},
   "source": [
    "![title](image/dict.png)"
   ]
  },
  {
   "cell_type": "code",
   "execution_count": 17,
   "metadata": {},
   "outputs": [
    {
     "name": "stdout",
     "output_type": "stream",
     "text": [
      "---------------------------------------------------\n",
      "test-------> {'name': ['a', 1], 'lname': 'bojnordi', 'country': 'iran'}\n",
      "---------------------------------------------------\n",
      "dict_keys(['name', 'lname', 'country'])\n",
      "---------------------------------------------------\n",
      "dict_values([['a', 1], 'bojnordi', 'iran'])\n"
     ]
    }
   ],
   "source": [
    "test ={\"name\":[\"a\",b],\"lname\":\"bojnordi\",\"country\":\"iran\"}\n",
    "print(\"---------------------------------------------------\")\n",
    "print(\"test------->\",test)\n",
    "print(\"---------------------------------------------------\")\n",
    "print (test.keys())   # Prints all the keys\n",
    "print(\"---------------------------------------------------\")\n",
    "print (test.values()) # Prints all the values"
   ]
  },
  {
   "cell_type": "markdown",
   "metadata": {},
   "source": [
    "![title](image/Names.png)"
   ]
  },
  {
   "cell_type": "code",
   "execution_count": 20,
   "metadata": {},
   "outputs": [
    {
     "name": "stdout",
     "output_type": "stream",
     "text": [
      "--------------------------------------------\n",
      "***********> {'name': 'reza', 'lname': 'bojnordi', 'age': 27, 'job': 'web developer'}\n",
      "dataset: mahmodi\n",
      "--------------------------------------------\n",
      "dataset: [{'name': 'reza', 'lname': 'bojnordi', 'age': 27, 'job': 'web developer'}, {'name': 'mahmmod', 'lname': 'mahmodi', 'age': 27, 'job': 'web developer'}, {'name': 'hashem', 'lname': 'jahangiri', 'age': 30, 'job': 'android developer'}]\n"
     ]
    }
   ],
   "source": [
    "# documentation\n",
    "dataset =[{\n",
    "    \"name\":\"reza\",\n",
    "    \"lname\":\"bojnordi\",\n",
    "    \"age\":27,\n",
    "    \"job\":\"web developer\"\n",
    "},\n",
    "    {\n",
    "    \"name\":\"mahmmod\",\n",
    "    \"lname\":\"mahmodi\",\n",
    "    \"age\":27,\n",
    "    \"job\":\"web developer\" \n",
    "    },\n",
    "    {\n",
    "    \"name\":\"hashem\",\n",
    "    \"lname\":\"jahangiri\",\n",
    "    \"age\":30,\n",
    "    \"job\":\"android developer\" \n",
    "    }\n",
    "]\n",
    "print('--------------------------------------------')\n",
    "print('***********>',dataset[0])\n",
    "print('dataset:',dataset[1][\"lname\"])\n",
    "print('--------------------------------------------')\n",
    "print('dataset:',dataset)"
   ]
  },
  {
   "cell_type": "markdown",
   "metadata": {},
   "source": [
    "# Data Type Conversion"
   ]
  },
  {
   "cell_type": "code",
   "execution_count": 22,
   "metadata": {},
   "outputs": [
    {
     "name": "stdout",
     "output_type": "stream",
     "text": [
      "phone <class 'str'>\n",
      "type <class 'str'>\n",
      "phone------> 963258\n",
      "type <class 'int'>\n"
     ]
    }
   ],
   "source": [
    "phone = \"963258\"\n",
    "print(\"phone\",type(phone))\n",
    "print(\"type\",type(phone))\n",
    "print(\"phone------>\",int(phone))\n",
    "print(\"type\",type(int(phone)))"
   ]
  },
  {
   "cell_type": "markdown",
   "metadata": {},
   "source": [
    "# Decision Making"
   ]
  },
  {
   "cell_type": "code",
   "execution_count": null,
   "metadata": {},
   "outputs": [],
   "source": [
    "age = input(\"لطفا سن خود را وارد کنید:\")\n",
    "\n",
    "if(int(age) > 20):\n",
    "    print(\"-----1>\",int(age) +2)\n",
    "elif(int(age) < 20):\n",
    "    print(int(age) -2)\n",
    "else:\n",
    "    print(\"noting\")\n"
   ]
  },
  {
   "cell_type": "markdown",
   "metadata": {},
   "source": [
    "# while Loop Statements"
   ]
  },
  {
   "cell_type": "code",
   "execution_count": null,
   "metadata": {},
   "outputs": [],
   "source": [
    "counte =0\n",
    "while(counte < 9):\n",
    "    print ('The count is:', counte)\n",
    "    counte= counte + 1\n",
    "print(\"Good Bye\")"
   ]
  },
  {
   "cell_type": "markdown",
   "metadata": {},
   "source": [
    "# Loops"
   ]
  },
  {
   "cell_type": "code",
   "execution_count": 4,
   "metadata": {},
   "outputs": [
    {
     "name": "stdout",
     "output_type": "stream",
     "text": [
      "list: 2\n",
      "list: 5\n",
      "list: 10\n",
      "list: 25\n",
      "------------------------------------------------\n"
     ]
    }
   ],
   "source": [
    "\n",
    "list = [2,5,10,25]\n",
    "for i in list:\n",
    "    print('list:',i)\n",
    "print(\"------------------------------------------------\")\n",
    "\n",
    "\n",
    "\n"
   ]
  },
  {
   "cell_type": "markdown",
   "metadata": {},
   "source": [
    "# Nested loops"
   ]
  },
  {
   "cell_type": "code",
   "execution_count": 47,
   "metadata": {},
   "outputs": [
    {
     "name": "stdout",
     "output_type": "stream",
     "text": [
      "1 2 3 4 5 6 7 8 9 10 \n",
      "2 4 6 8 10 12 14 16 18 20 \n",
      "3 6 9 12 15 18 21 24 27 30 \n",
      "4 8 12 16 20 24 28 32 36 40 \n",
      "5 10 15 20 25 30 35 40 45 50 \n",
      "6 12 18 24 30 36 42 48 54 60 \n",
      "7 14 21 28 35 42 49 56 63 70 \n",
      "8 16 24 32 40 48 56 64 72 80 \n",
      "9 18 27 36 45 54 63 72 81 90 \n",
      "10 20 30 40 50 60 70 80 90 100 \n"
     ]
    }
   ],
   "source": [
    "for i in range(1,11):\n",
    "    for j in range(1,11):\n",
    "        k = i * j\n",
    "        print (k, end=' ')\n",
    "    print()\n"
   ]
  },
  {
   "cell_type": "markdown",
   "metadata": {},
   "source": [
    "# mean"
   ]
  },
  {
   "cell_type": "code",
   "execution_count": 3,
   "metadata": {},
   "outputs": [
    {
     "name": "stdout",
     "output_type": "stream",
     "text": [
      "mean: 5.0\n"
     ]
    }
   ],
   "source": [
    "list = [2,4,6,8]\n",
    "a =0\n",
    "for i in list:\n",
    "    a = a + i\n",
    "print(\"mean:\",a / len(list))"
   ]
  },
  {
   "cell_type": "markdown",
   "metadata": {},
   "source": [
    "# Lists"
   ]
  },
  {
   "cell_type": "code",
   "execution_count": 5,
   "metadata": {},
   "outputs": [
    {
     "name": "stdout",
     "output_type": "stream",
     "text": [
      "Value available at index 2 :  1997\n",
      "New value available at index 2 :  2001\n"
     ]
    }
   ],
   "source": [
    "list = ['physics', 'chemistry', 1997, 2000]\n",
    "print (\"Value available at index 2 : \", list[2])\n",
    "list[2] = 2001\n",
    "print (\"New value available at index 2 : \", list[2])\n"
   ]
  },
  {
   "cell_type": "markdown",
   "metadata": {},
   "source": [
    "![title](image/memory.png)"
   ]
  },
  {
   "cell_type": "markdown",
   "metadata": {},
   "source": [
    "# Basic List Operations"
   ]
  },
  {
   "cell_type": "code",
   "execution_count": 8,
   "metadata": {},
   "outputs": [
    {
     "name": "stdout",
     "output_type": "stream",
     "text": [
      "Length: 4\n",
      "concat: [2, 5, 8, 4, 87, 45, 6]\n",
      "Membership: True\n",
      "max: 80\n",
      "min: 1\n"
     ]
    }
   ],
   "source": [
    "list = ['physics', 'chemistry', 1997, 2000]\n",
    "print(\"Length:\",len(list))\n",
    "\n",
    "print(\"concat:\",[2,5,8,4]+[87,45,6])\n",
    "\n",
    "print(\"Membership:\", 3 in [3,5,9,58,45])\n",
    "\n",
    "print(\"max:\",max([55,12,4,69,4,12,1,50,80,4]))\n",
    "\n",
    "print(\"min:\",min([55,12,4,69,4,12,1,50,80,4]))\n",
    "\n"
   ]
  },
  {
   "cell_type": "markdown",
   "metadata": {},
   "source": [
    "# append"
   ]
  },
  {
   "cell_type": "code",
   "execution_count": 9,
   "metadata": {},
   "outputs": [
    {
     "name": "stdout",
     "output_type": "stream",
     "text": [
      "list1: ['python', 'ruby', 'node', 'c++', 2]\n",
      "pop list: python\n",
      "pop list--->: ['ruby', 'node', 'c++', 2]\n"
     ]
    }
   ],
   "source": [
    "list1 = ['python','ruby','node','c++']\n",
    "list1.append(2)\n",
    "print('list1:',list1)\n",
    "print('pop list:',list1.pop(0))\n",
    "print('pop list--->:',list1)"
   ]
  },
  {
   "cell_type": "markdown",
   "metadata": {},
   "source": [
    "# sort"
   ]
  },
  {
   "cell_type": "code",
   "execution_count": 2,
   "metadata": {},
   "outputs": [
    {
     "name": "stdout",
     "output_type": "stream",
     "text": [
      "[78, 50, 45, 25, 23, 7, 6, 5]\n"
     ]
    }
   ],
   "source": [
    "list2 = [50,6,25,45,7,78,23,5]\n",
    "list3 = [50,6,25,45,7,78,23,5]\n",
    "list2.sort()\n",
    "list2.sort(reverse=True)\n",
    "print(list2)"
   ]
  },
  {
   "cell_type": "markdown",
   "metadata": {},
   "source": [
    "# Dictionary"
   ]
  },
  {
   "cell_type": "code",
   "execution_count": 22,
   "metadata": {
    "scrolled": true
   },
   "outputs": [
    {
     "name": "stdout",
     "output_type": "stream",
     "text": [
      "dict['Name']:  Zara\n",
      "dict['Age']:  7\n"
     ]
    }
   ],
   "source": [
    "dict = {'Name': 'Zara', 'Age': 7, 'Class': 'First'}\n",
    "print (\"dict['Name']: \", dict['Name'])\n",
    "print (\"dict['Age']: \", dict['Age'])"
   ]
  },
  {
   "cell_type": "markdown",
   "metadata": {},
   "source": [
    "# Error Keys"
   ]
  },
  {
   "cell_type": "code",
   "execution_count": 28,
   "metadata": {},
   "outputs": [
    {
     "name": "stdout",
     "output_type": "stream",
     "text": [
      "dict['Alice']:  7\n"
     ]
    }
   ],
   "source": [
    "dict = {'Name': 'Zara', 'Age': 7, 'Class': 'First'};\n",
    "print (\"dict['Alice']: \", dict['Age'])"
   ]
  },
  {
   "cell_type": "markdown",
   "metadata": {},
   "source": [
    "# Updating Dictionary"
   ]
  },
  {
   "cell_type": "code",
   "execution_count": 26,
   "metadata": {},
   "outputs": [
    {
     "name": "stdout",
     "output_type": "stream",
     "text": [
      "{'Name': 'Zara', 'Age': 7, 'Class': 'First'}\n",
      "dict['Age']:  8\n",
      "dict['School']:  DPS School\n",
      "----------------------------> {'Name': 'Zara', 'Age': 8, 'Class': 'First', 'School': 'DPS School'}\n",
      "dict_keys(['Name', 'Age', 'Class', 'School'])\n",
      "dict_values(['Zara', 8, 'First', 'DPS School'])\n"
     ]
    }
   ],
   "source": [
    "dict = {'Name': 'Zara', 'Age': 7, 'Class': 'First'}\n",
    "print(dict)\n",
    "dict['Age'] = 8; # update existing entry\n",
    "dict['School'] = \"DPS School\" # Add new entry\n",
    "print (\"dict['Age']: \", dict['Age'])\n",
    "print (\"dict['School']: \", dict['School'])\n",
    "print('---------------------------->',dict)\n",
    "print(dict.keys())\n",
    "print(dict.values())"
   ]
  },
  {
   "cell_type": "markdown",
   "metadata": {},
   "source": [
    "# len"
   ]
  },
  {
   "cell_type": "code",
   "execution_count": 29,
   "metadata": {},
   "outputs": [
    {
     "name": "stdout",
     "output_type": "stream",
     "text": [
      "Length : 3\n"
     ]
    }
   ],
   "source": [
    "dict = {'Name': 'Manni', 'Age': 7, 'Class': 'First'}\n",
    "print (\"Length : %d\" % len (dict))"
   ]
  },
  {
   "cell_type": "markdown",
   "metadata": {},
   "source": [
    "# dictionary copy()"
   ]
  },
  {
   "cell_type": "code",
   "execution_count": 30,
   "metadata": {},
   "outputs": [
    {
     "name": "stdout",
     "output_type": "stream",
     "text": [
      "New Dictionary :  {'Name': 'Manni', 'Age': 7, 'Class': 'First'}\n"
     ]
    }
   ],
   "source": [
    "dict1 = {'Name': 'Manni', 'Age': 7, 'Class': 'First'}\n",
    "dict2 = dict1.copy()\n",
    "print (\"New Dictionary : \",dict2)"
   ]
  },
  {
   "cell_type": "markdown",
   "metadata": {},
   "source": [
    "# Functions"
   ]
  },
  {
   "cell_type": "code",
   "execution_count": 31,
   "metadata": {},
   "outputs": [
    {
     "name": "stdout",
     "output_type": "stream",
     "text": [
      "------> This is first call to the user defined function!\n",
      "------> Again second call to the same function\n"
     ]
    }
   ],
   "source": [
    "# Function definition is here\n",
    "def printme(str):\n",
    "   \"This prints a passed string into this function\"\n",
    "   print ('------>',str)\n",
    "   \n",
    "\n",
    "# Now you can call printme function\n",
    "printme(\"This is first call to the user defined function!\")\n",
    "printme(\"Again second call to the same function\")"
   ]
  },
  {
   "cell_type": "code",
   "execution_count": 35,
   "metadata": {},
   "outputs": [
    {
     "name": "stdout",
     "output_type": "stream",
     "text": [
      "420\n"
     ]
    }
   ],
   "source": [
    "def Multiplication (x,b):\n",
    "    return x * b\n",
    "\n",
    "\n",
    "\n",
    "print(Multiplication(6,70))"
   ]
  },
  {
   "cell_type": "markdown",
   "metadata": {},
   "source": [
    "# random in numpy\n"
   ]
  },
  {
   "cell_type": "code",
   "execution_count": 71,
   "metadata": {},
   "outputs": [
    {
     "name": "stdout",
     "output_type": "stream",
     "text": [
      "Normal distribution [[ 1.36734746 -0.35646073 -0.95563215  0.79098202 -0.71769878  0.33678322\n",
      "   0.80172292 -1.30698109 -1.29461837 -1.17645716]]\n",
      "-------------------------------------------------------------------\n",
      "Uniform distribution [0.85099348 0.61521566 0.96644956 0.79298571 0.62244336 0.274458\n",
      " 0.41032648 0.51171366 0.37059723 0.02674808]\n"
     ]
    }
   ],
   "source": [
    "import numpy as np\n",
    "\n",
    "\n",
    "\n",
    "print(\"Normal distribution\",np.random.randn(1,10))\n",
    "print('-------------------------------------------------------------------')\n",
    "print(\"Uniform distribution\",np.random.uniform(0 ,1 , 10))"
   ]
  },
  {
   "cell_type": "code",
   "execution_count": 45,
   "metadata": {},
   "outputs": [
    {
     "name": "stdout",
     "output_type": "stream",
     "text": [
      "[0. 0. 0. 0. 0. 0. 0. 0. 0. 0.]\n"
     ]
    }
   ],
   "source": [
    "import numpy as np\n",
    "estimated_action_value = np.zeros(10)\n",
    "print(estimated_action_value)"
   ]
  },
  {
   "cell_type": "markdown",
   "metadata": {},
   "source": [
    "# numpy.matmul"
   ]
  },
  {
   "cell_type": "code",
   "execution_count": 46,
   "metadata": {},
   "outputs": [
    {
     "name": "stdout",
     "output_type": "stream",
     "text": [
      "[[ 8  2]\n",
      " [22  7]]\n"
     ]
    }
   ],
   "source": [
    "a = [[2, 0], \n",
    "     [5, 1]\n",
    "    ]\n",
    "\n",
    "b = [\n",
    "    [4, 1],\n",
    "    [2, 2]\n",
    "]\n",
    "\n",
    "print(np.matmul(a, b))"
   ]
  },
  {
   "cell_type": "markdown",
   "metadata": {},
   "source": [
    "# source:https://www.tutorialspoint.com/python3/"
   ]
  }
 ],
 "metadata": {
  "kernelspec": {
   "display_name": "Python 3",
   "language": "python",
   "name": "python3"
  },
  "language_info": {
   "codemirror_mode": {
    "name": "ipython",
    "version": 3
   },
   "file_extension": ".py",
   "mimetype": "text/x-python",
   "name": "python",
   "nbconvert_exporter": "python",
   "pygments_lexer": "ipython3",
   "version": "3.6.4"
  }
 },
 "nbformat": 4,
 "nbformat_minor": 2
}
